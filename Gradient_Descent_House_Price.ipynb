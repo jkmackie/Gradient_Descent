{
 "cells": [
  {
   "cell_type": "code",
   "execution_count": 1,
   "metadata": {},
   "outputs": [],
   "source": [
    "#Gradient descent illustration.  Version 0.1.\n",
    "#Coded by Justin Mackie \n",
    "#December 14, 2018\n",
    "\n",
    "%matplotlib inline\n",
    "import matplotlib.pyplot as plt\n",
    "import numpy as np\n",
    "import pandas as pd"
   ]
  },
  {
   "cell_type": "code",
   "execution_count": 2,
   "metadata": {},
   "outputs": [],
   "source": [
    "#Figures sourced from Jahnavi Mahanta's article: https://www.kdnuggets.com/2017/04/simple-understand-gradient-descent-algorithm.html\n",
    "\n",
    "#THIS CODE IS WRITTEN FOR SIMPLICITY AND TRANSPARENCY, NOT RAW SPEED\n",
    "\n",
    "#import house price data as Pandas Dataframe\n",
    "data = pd.read_csv('House_Price.csv')\n",
    "['House_Size', 'House_Price']\n",
    "\n",
    "for c in ['House_Size', 'House_Price']:\n",
    "    data[c]=data[c].str.replace(',','').astype('float')\n",
    "    "
   ]
  },
  {
   "cell_type": "code",
   "execution_count": 3,
   "metadata": {},
   "outputs": [
    {
     "name": "stdout",
     "output_type": "stream",
     "text": [
      "Standard Deviation - House_Size - 417.864943625\n",
      "Standard Deviation - House_Price - 56949.1976336\n"
     ]
    },
    {
     "data": {
      "text/html": [
       "<div>\n",
       "<style scoped>\n",
       "    .dataframe tbody tr th:only-of-type {\n",
       "        vertical-align: middle;\n",
       "    }\n",
       "\n",
       "    .dataframe tbody tr th {\n",
       "        vertical-align: top;\n",
       "    }\n",
       "\n",
       "    .dataframe thead th {\n",
       "        text-align: right;\n",
       "    }\n",
       "</style>\n",
       "<table border=\"1\" class=\"dataframe\">\n",
       "  <thead>\n",
       "    <tr style=\"text-align: right;\">\n",
       "      <th></th>\n",
       "      <th>House_Size</th>\n",
       "      <th>House_Price</th>\n",
       "      <th>stdev</th>\n",
       "      <th>Std_House_Size</th>\n",
       "      <th>Std_House_Price</th>\n",
       "    </tr>\n",
       "  </thead>\n",
       "  <tbody>\n",
       "    <tr>\n",
       "      <th>0</th>\n",
       "      <td>1100.0</td>\n",
       "      <td>199000.0</td>\n",
       "      <td>56949.197634</td>\n",
       "      <td>2.632429</td>\n",
       "      <td>3.494342</td>\n",
       "    </tr>\n",
       "    <tr>\n",
       "      <th>1</th>\n",
       "      <td>1400.0</td>\n",
       "      <td>245000.0</td>\n",
       "      <td>56949.197634</td>\n",
       "      <td>3.350365</td>\n",
       "      <td>4.302080</td>\n",
       "    </tr>\n",
       "    <tr>\n",
       "      <th>2</th>\n",
       "      <td>1425.0</td>\n",
       "      <td>319000.0</td>\n",
       "      <td>56949.197634</td>\n",
       "      <td>3.410193</td>\n",
       "      <td>5.601484</td>\n",
       "    </tr>\n",
       "    <tr>\n",
       "      <th>3</th>\n",
       "      <td>1550.0</td>\n",
       "      <td>240000.0</td>\n",
       "      <td>56949.197634</td>\n",
       "      <td>3.709332</td>\n",
       "      <td>4.214282</td>\n",
       "    </tr>\n",
       "    <tr>\n",
       "      <th>4</th>\n",
       "      <td>1600.0</td>\n",
       "      <td>312000.0</td>\n",
       "      <td>56949.197634</td>\n",
       "      <td>3.828988</td>\n",
       "      <td>5.478567</td>\n",
       "    </tr>\n",
       "    <tr>\n",
       "      <th>5</th>\n",
       "      <td>1700.0</td>\n",
       "      <td>279000.0</td>\n",
       "      <td>56949.197634</td>\n",
       "      <td>4.068300</td>\n",
       "      <td>4.899103</td>\n",
       "    </tr>\n",
       "    <tr>\n",
       "      <th>6</th>\n",
       "      <td>1700.0</td>\n",
       "      <td>310000.0</td>\n",
       "      <td>56949.197634</td>\n",
       "      <td>4.068300</td>\n",
       "      <td>5.443448</td>\n",
       "    </tr>\n",
       "    <tr>\n",
       "      <th>7</th>\n",
       "      <td>1875.0</td>\n",
       "      <td>308000.0</td>\n",
       "      <td>56949.197634</td>\n",
       "      <td>4.487096</td>\n",
       "      <td>5.408329</td>\n",
       "    </tr>\n",
       "    <tr>\n",
       "      <th>8</th>\n",
       "      <td>2350.0</td>\n",
       "      <td>405000.0</td>\n",
       "      <td>56949.197634</td>\n",
       "      <td>5.623827</td>\n",
       "      <td>7.111602</td>\n",
       "    </tr>\n",
       "    <tr>\n",
       "      <th>9</th>\n",
       "      <td>2450.0</td>\n",
       "      <td>324000.0</td>\n",
       "      <td>56949.197634</td>\n",
       "      <td>5.863138</td>\n",
       "      <td>5.689281</td>\n",
       "    </tr>\n",
       "  </tbody>\n",
       "</table>\n",
       "</div>"
      ],
      "text/plain": [
       "   House_Size  House_Price         stdev  Std_House_Size  Std_House_Price\n",
       "0      1100.0     199000.0  56949.197634        2.632429         3.494342\n",
       "1      1400.0     245000.0  56949.197634        3.350365         4.302080\n",
       "2      1425.0     319000.0  56949.197634        3.410193         5.601484\n",
       "3      1550.0     240000.0  56949.197634        3.709332         4.214282\n",
       "4      1600.0     312000.0  56949.197634        3.828988         5.478567\n",
       "5      1700.0     279000.0  56949.197634        4.068300         4.899103\n",
       "6      1700.0     310000.0  56949.197634        4.068300         5.443448\n",
       "7      1875.0     308000.0  56949.197634        4.487096         5.408329\n",
       "8      2350.0     405000.0  56949.197634        5.623827         7.111602\n",
       "9      2450.0     324000.0  56949.197634        5.863138         5.689281"
      ]
     },
     "execution_count": 3,
     "metadata": {},
     "output_type": "execute_result"
    }
   ],
   "source": [
    "#Standardize features using pd.Series\n",
    "def standardize(ser):\n",
    "    data['max']=ser.max()\n",
    "    data['min']=ser.min()\n",
    "    data['std']=(ser - data['min'])/(data['max']-data['min'])\n",
    "    return data['std']\n",
    "\n",
    "def standardize_sigma(ser):\n",
    "    data['stdev']=ser.std()\n",
    "    data['std']=ser/data['stdev']\n",
    "    return data['std']\n",
    "\n",
    "for c in ['House_Size', 'House_Price']:\n",
    "    data['Std_'+c]=standardize_sigma(data[c])\n",
    "    data=data.drop(['std'], axis=1)\n",
    "    print('Standard Deviation -',c,'-', data['stdev'].iloc[0])\n",
    "data"
   ]
  },
  {
   "cell_type": "code",
   "execution_count": 4,
   "metadata": {
    "scrolled": false
   },
   "outputs": [
    {
     "name": "stdout",
     "output_type": "stream",
     "text": [
      "###  Standard Deviation House Price -  56949.1976336  ###\n",
      "\n",
      " *************Gradient Descent************\n",
      "Last Iteration: 100 |  SSE: 54.4447\n",
      "Gradient for a: 10.435 | Gradient for b: -2.407\n",
      "Updated a: 23.508 | Updated b: -4.217\n",
      "\n",
      "            Max Iterations = 100 :\n",
      "******************************************\n"
     ]
    },
    {
     "data": {
      "image/png": "[encoded data removed]",
      "text/plain": [
       "<Figure size 360x288 with 1 Axes>"
      ]
     },
     "metadata": {
      "needs_background": "light"
     },
     "output_type": "display_data"
    },
    {
     "name": "stdout",
     "output_type": "stream",
     "text": [
      "\n",
      " *************Gradient Descent************\n",
      "Last Iteration: 400 |  SSE: 3.0084\n",
      "Gradient for a: 2.453 | Gradient for b: -0.569\n",
      "Updated a: 7.012 | Updated b: -0.391\n",
      "\n",
      "            Max Iterations = 400 :\n",
      "******************************************\n"
     ]
    },
    {
     "data": {
      "image/png": "[encoded data removed]",
      "text/plain": [
       "<Figure size 360x288 with 1 Axes>"
      ]
     },
     "metadata": {
      "needs_background": "light"
     },
     "output_type": "display_data"
    },
    {
     "name": "stdout",
     "output_type": "stream",
     "text": [
      "\n",
      " *************Gradient Descent************\n",
      "Last Iteration: 700 |  SSE: 0.1663\n",
      "Gradient for a: 0.577 | Gradient for b: -0.134\n",
      "Updated a: 3.133 | Updated b: 0.509\n",
      "\n",
      "            Max Iterations = 700 :\n",
      "******************************************\n"
     ]
    },
    {
     "data": {
      "image/png": "[encoded data removed]",
      "text/plain": [
       "<Figure size 360x288 with 1 Axes>"
      ]
     },
     "metadata": {
      "needs_background": "light"
     },
     "output_type": "display_data"
    },
    {
     "name": "stdout",
     "output_type": "stream",
     "text": [
      "\n",
      " *************Gradient Descent************\n",
      "Last Iteration: 1469 |  SSE: 0.0001\n",
      "Gradient for a: 0.014 | Gradient for b: -0.003\n",
      "Updated a: 1.97 | Updated b: 0.779\n",
      "\n",
      "            Max Iterations = 2000 :\n",
      "******************************************\n"
     ]
    },
    {
     "data": {
      "image/png": "[encoded data removed]",
      "text/plain": [
       "<Figure size 360x288 with 1 Axes>"
      ]
     },
     "metadata": {
      "needs_background": "light"
     },
     "output_type": "display_data"
    }
   ],
   "source": [
    "#%%timeit\n",
    "\n",
    "#Implement gradient descent algorithm on prediction of the form Ypred = a + bX\n",
    "#X is Std_House_Size, Y is Std_House_Price, Ypred is price prediction\n",
    "\n",
    "def YPred(a, b, X):\n",
    "    yhat=a+b*X\n",
    "    return yhat #returns pd.series when X is a series\n",
    "\n",
    "def SSError(Y, Ypred):\n",
    "    errors=(Y-Ypred)            #calc error\n",
    "    sse=0.5*(errors.sum())**2   #calc sse\n",
    "    return sse                  #returns sse series\n",
    "\n",
    "#Error gradients w.r.t. weights a & b\n",
    "#a:  ∂SSE/∂a = (Y-Ypred)     #(-) minus will reflect in update rule\n",
    "#b:  ∂SSE/∂b = X* (Y-Ypred)  #(-) minus will reflect in update rule\n",
    "\n",
    "def getTotGradi(X, Y, YPred):  #get gradient at YPred\n",
    "    aGradi=-(Y-YPred)     #Gradient of a, used to update a value each iteration\n",
    "    bGradi=-X*(Y-YPred)   #Gradient of b, used to update a value each iteration\n",
    "    aGradi=aGradi.sum()\n",
    "    bGradi=bGradi.sum()    \n",
    "    return aGradi, bGradi\n",
    "\n",
    "#Update Rules:\n",
    "#a: a - r * ∂SSE/∂a = a - r * (Y - Ypred)\n",
    "#b: b - r* ∂SSE/∂b = a - r * X*(Y - Ypred)\n",
    "\n",
    "def GradientDesc(a, b, YPred, learn_rate, sse_thresh, max_iters):\n",
    "    iter=1\n",
    "    sse=10000\n",
    "    #print('Starting iter, max_iter, a, b:',iter, max_iter, a,b,'\\n')\n",
    "    while (iter < max_iters and sse > sse_thresh):\n",
    "        data['Y_pred']=YPred(a, b, data['Std_House_Size'])\n",
    "        sse=SSError(data['Std_House_Price'], data['Y_pred'])\n",
    "        aGradi, bGradi=getTotGradi(data['Std_House_Size'], data['Std_House_Price'], data['Y_pred'])\n",
    "        a=a-learn_rate*aGradi        #Update equation for a\n",
    "        b=b-learn_rate*bGradi        #Update equation for b\n",
    "        iter+=1\n",
    "    print('\\n','*************Gradient Descent************')    \n",
    "    print('Last Iteration:',iter,'| ', 'SSE:', round(sse,4))\n",
    "    print('Gradient for a:', round(aGradi,3),'|', 'Gradient for b:', round(bGradi,3))\n",
    "    print('Updated a:', round(a,3),'|', 'Updated b:',round(b,3))\n",
    "    return a, b\n",
    "\n",
    "#Predict house price using a and b\n",
    "sigma=data['stdev'].iloc[0]  #House price was the last standard deviation calculated\n",
    "print('###  Standard Deviation House Price - ', sigma,' ###')\n",
    "\n",
    "def get_price_pred(a,b,sigma,Std_House_Size):\n",
    "    std_price=(a+b*Std_House_Size)\n",
    "    price=std_price*sigma\n",
    "    return price\n",
    "\n",
    "#Illustration of SGD stopped at\n",
    "\n",
    "for value in [100, 400, 700, 2000]:\n",
    "    a_val=50\n",
    "    b_val=50\n",
    "    a,b=GradientDesc(a_val, b_val, YPred, learn_rate=0.01, sse_thresh=0.0001, max_iters=value)\n",
    "    house_price_pred=get_price_pred(a, b, sigma, data['Std_House_Size'])\n",
    "    print('\\n','           Max Iterations =',value,':')\n",
    "    print('******************************************')\n",
    "    plt.figure(figsize=(5,4))\n",
    "    plt.scatter(data['House_Size'], data['House_Price'],color='blue')\n",
    "    plt.plot(data['House_Size'], house_price_pred,color='red')\n",
    "    plt.title('Actual vs Predicted House Price using Gradient Descent')\n",
    "    plt.xlabel('House Size in Square Feet')\n",
    "    plt.ylabel('Price')\n",
    "    plt.legend(['Predicted','Actual'],loc=2)\n",
    "    plt.show()"
   ]
  },
  {
   "cell_type": "code",
   "execution_count": 5,
   "metadata": {
    "scrolled": false
   },
   "outputs": [
    {
     "name": "stdout",
     "output_type": "stream",
     "text": [
      "Random initialization values: a = 44 | b = 44 \n",
      "\n",
      "***  Every hundred iterations shown plus the last iteration:  ***\n",
      "Iter: 100 | SSE: 41.1705 Gradient a: 9.074 | Gradient b: -2.114 Updated a: 20.705 | Updated b: -3.566\n",
      "Iter: 200 | SSE: 15.6914 Gradient a: 5.602 | Gradient b: -1.299 Updated a: 13.522 | Updated b: -1.901\n",
      "Iter: 300 | SSE: 5.9777 Gradient a: 3.458 | Gradient b: -0.802 Updated a: 9.089 | Updated b: -0.872\n",
      "Iter: 400 | SSE: 2.2772 Gradient a: 2.134 | Gradient b: -0.495 Updated a: 6.353 | Updated b: -0.238\n",
      "Iter: 500 | SSE: 0.8675 Gradient a: 1.317 | Gradient b: -0.305 Updated a: 4.664 | Updated b: 0.154\n",
      "Iter: 600 | SSE: 0.3305 Gradient a: 0.813 | Gradient b: -0.189 Updated a: 3.622 | Updated b: 0.396\n",
      "Iter: 700 | SSE: 0.1259 Gradient a: 0.502 | Gradient b: -0.116 Updated a: 2.978 | Updated b: 0.545\n",
      "Iter: 800 | SSE: 0.048 Gradient a: 0.31 | Gradient b: -0.072 Updated a: 2.581 | Updated b: 0.637\n",
      "Iter: 900 | SSE: 0.0183 Gradient a: 0.191 | Gradient b: -0.044 Updated a: 2.336 | Updated b: 0.694\n",
      "Iter: 1000 | SSE: 0.007 Gradient a: 0.118 | Gradient b: -0.027 Updated a: 2.185 | Updated b: 0.729\n",
      "Iter: 1100 | SSE: 0.0027 Gradient a: 0.073 | Gradient b: -0.017 Updated a: 2.091 | Updated b: 0.75\n",
      "Iter: 1200 | SSE: 0.001 Gradient a: 0.045 | Gradient b: -0.01 Updated a: 2.034 | Updated b: 0.764\n",
      "Iter: 1300 | SSE: 0.0004 Gradient a: 0.028 | Gradient b: -0.006 Updated a: 1.998 | Updated b: 0.772\n",
      "Iter: 1400 | SSE: 0.0001 Gradient a: 0.017 | Gradient b: -0.004 Updated a: 1.976 | Updated b: 0.777\n",
      "Iter: 1440 | SSE: 0.0001 Gradient a: 0.014 | Gradient b: -0.003 Updated a: 1.97 | Updated b: 0.779\n"
     ]
    }
   ],
   "source": [
    "def GradientDesc2(a, b, YPred, learn_rate, sse_thresh, max_iters):\n",
    "    iter=1\n",
    "    sse=10000\n",
    "    print('Random initialization values:','a =', a,'|','b =',b,'\\n')\n",
    "    print('***  Every hundred iterations shown plus the last iteration:  ***')\n",
    "    while (iter < max_iters and sse > sse_thresh):\n",
    "        data['Y_pred']=YPred(a, b, data['Std_House_Size'])\n",
    "        sse=SSError(data['Std_House_Price'], data['Y_pred'])\n",
    "        aGradi, bGradi=getTotGradi(data['Std_House_Size'], data['Std_House_Price'], data['Y_pred'])\n",
    "        a=a-learn_rate*aGradi        #Update a.\n",
    "        b=b-learn_rate*bGradi        #Update b.\n",
    "        if iter==0 or iter%100==0 or sse<=sse_thresh:\n",
    "            print('Iter:',iter,'|', 'SSE:', round(sse,4),'Gradient a:', round(aGradi,3),'|', 'Gradient b:',\\\n",
    "                  round(bGradi,3),'Updated a:', round(a,3),'|', 'Updated b:',round(b,3))\n",
    "        iter+=1\n",
    "    return a, b\n",
    "\n",
    "#Just Gradient Descent with Iterations\n",
    "#Initializing with a=77 and b=77 gets Gradient Descent stuck in local minimum where SSE = 0.\n",
    "a_val=44\n",
    "b_val=44\n",
    "a,b=GradientDesc2(a_val, b_val, YPred, learn_rate=0.01, sse_thresh=0.0001, max_iters=2000)"
   ]
  },
  {
   "cell_type": "code",
   "execution_count": 6,
   "metadata": {},
   "outputs": [],
   "source": [
    "#predicted_std_price = (a + b*X)\n",
    "#Multiply by sigma to get prediction as regular dollars:  predicted_price = (predicted_std_price * sigma)\n",
    "#The function, get_pred_price, scales the predicted_std_price by sigma."
   ]
  },
  {
   "cell_type": "code",
   "execution_count": 12,
   "metadata": {},
   "outputs": [
    {
     "name": "stdout",
     "output_type": "stream",
     "text": [
      "Predicted House Price:\n",
      "0    228919.0\n",
      "1    260754.0\n",
      "2    263407.0\n",
      "3    276671.0\n",
      "4    281977.0\n",
      "5    292588.0\n",
      "6    292588.0\n",
      "7    311158.0\n",
      "8    361563.0\n",
      "9    372175.0\n",
      "Name: Std_House_Size, dtype: float64\n"
     ]
    }
   ],
   "source": [
    "regular_dollars=get_price_pred(a, b, sigma, data['Std_House_Size'])\n",
    "print('Predicted House Price:')\n",
    "print(round(regular_dollars,0))"
   ]
  },
  {
   "cell_type": "code",
   "execution_count": 10,
   "metadata": {},
   "outputs": [
    {
     "name": "stdout",
     "output_type": "stream",
     "text": [
      "Actual Values:\n"
     ]
    },
    {
     "data": {
      "text/html": [
       "<div>\n",
       "<style scoped>\n",
       "    .dataframe tbody tr th:only-of-type {\n",
       "        vertical-align: middle;\n",
       "    }\n",
       "\n",
       "    .dataframe tbody tr th {\n",
       "        vertical-align: top;\n",
       "    }\n",
       "\n",
       "    .dataframe thead th {\n",
       "        text-align: right;\n",
       "    }\n",
       "</style>\n",
       "<table border=\"1\" class=\"dataframe\">\n",
       "  <thead>\n",
       "    <tr style=\"text-align: right;\">\n",
       "      <th></th>\n",
       "      <th>House_Size</th>\n",
       "      <th>House_Price</th>\n",
       "    </tr>\n",
       "  </thead>\n",
       "  <tbody>\n",
       "    <tr>\n",
       "      <th>0</th>\n",
       "      <td>1100.0</td>\n",
       "      <td>199000.0</td>\n",
       "    </tr>\n",
       "    <tr>\n",
       "      <th>1</th>\n",
       "      <td>1400.0</td>\n",
       "      <td>245000.0</td>\n",
       "    </tr>\n",
       "    <tr>\n",
       "      <th>2</th>\n",
       "      <td>1425.0</td>\n",
       "      <td>319000.0</td>\n",
       "    </tr>\n",
       "    <tr>\n",
       "      <th>3</th>\n",
       "      <td>1550.0</td>\n",
       "      <td>240000.0</td>\n",
       "    </tr>\n",
       "    <tr>\n",
       "      <th>4</th>\n",
       "      <td>1600.0</td>\n",
       "      <td>312000.0</td>\n",
       "    </tr>\n",
       "    <tr>\n",
       "      <th>5</th>\n",
       "      <td>1700.0</td>\n",
       "      <td>279000.0</td>\n",
       "    </tr>\n",
       "    <tr>\n",
       "      <th>6</th>\n",
       "      <td>1700.0</td>\n",
       "      <td>310000.0</td>\n",
       "    </tr>\n",
       "    <tr>\n",
       "      <th>7</th>\n",
       "      <td>1875.0</td>\n",
       "      <td>308000.0</td>\n",
       "    </tr>\n",
       "    <tr>\n",
       "      <th>8</th>\n",
       "      <td>2350.0</td>\n",
       "      <td>405000.0</td>\n",
       "    </tr>\n",
       "    <tr>\n",
       "      <th>9</th>\n",
       "      <td>2450.0</td>\n",
       "      <td>324000.0</td>\n",
       "    </tr>\n",
       "  </tbody>\n",
       "</table>\n",
       "</div>"
      ],
      "text/plain": [
       "   House_Size  House_Price\n",
       "0      1100.0     199000.0\n",
       "1      1400.0     245000.0\n",
       "2      1425.0     319000.0\n",
       "3      1550.0     240000.0\n",
       "4      1600.0     312000.0\n",
       "5      1700.0     279000.0\n",
       "6      1700.0     310000.0\n",
       "7      1875.0     308000.0\n",
       "8      2350.0     405000.0\n",
       "9      2450.0     324000.0"
      ]
     },
     "execution_count": 10,
     "metadata": {},
     "output_type": "execute_result"
    }
   ],
   "source": [
    "print('Actual Values:')\n",
    "data[['House_Size','House_Price']].head(10)"
   ]
  },
  {
   "cell_type": "code",
   "execution_count": null,
   "metadata": {},
   "outputs": [],
   "source": []
  }
 ],
 "metadata": {
  "kernelspec": {
   "display_name": "Python 3",
   "language": "python",
   "name": "python3"
  },
  "language_info": {
   "codemirror_mode": {
    "name": "ipython",
    "version": 3
   },
   "file_extension": ".py",
   "mimetype": "text/x-python",
   "name": "python",
   "nbconvert_exporter": "python",
   "pygments_lexer": "ipython3",
   "version": "3.6.3"
  }
 },
 "nbformat": 4,
 "nbformat_minor": 2
}
